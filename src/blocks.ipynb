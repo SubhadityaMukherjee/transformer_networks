{
 "cells": [
  {
   "cell_type": "code",
   "execution_count": 4,
   "id": "06ec56f3-55c0-4c90-b44c-6127c37bde53",
   "metadata": {},
   "outputs": [
    {
     "name": "stderr",
     "output_type": "stream",
     "text": [
      "/tmp/ipykernel_7470/785548360.py:6: DeprecationWarning: `set_matplotlib_formats` is deprecated since IPython 7.23, directly use `matplotlib_inline.backend_inline.set_matplotlib_formats()`\n",
      "  set_matplotlib_formats(\"svg\", \"pdf\")\n"
     ]
    },
    {
     "ename": "ImportError",
     "evalue": "attempted relative import with no known parent package",
     "output_type": "error",
     "traceback": [
      "\u001b[0;31m---------------------------------------------------------------------------\u001b[0m",
      "\u001b[0;31mImportError\u001b[0m                               Traceback (most recent call last)",
      "Input \u001b[0;32mIn [4]\u001b[0m, in \u001b[0;36m<cell line: 16>\u001b[0;34m()\u001b[0m\n\u001b[1;32m     13\u001b[0m sns\u001b[38;5;241m.\u001b[39mreset_orig()\n\u001b[1;32m     15\u001b[0m \u001b[38;5;28;01mfrom\u001b[39;00m \u001b[38;5;21;01mflax\u001b[39;00m \u001b[38;5;28;01mimport\u001b[39;00m linen \u001b[38;5;28;01mas\u001b[39;00m nn\n\u001b[0;32m---> 16\u001b[0m \u001b[38;5;28;01mfrom\u001b[39;00m \u001b[38;5;21;01m.\u001b[39;00m\u001b[38;5;21;01mutils\u001b[39;00m \u001b[38;5;28;01mimport\u001b[39;00m \u001b[38;5;241m*\u001b[39m\n\u001b[1;32m     17\u001b[0m \u001b[38;5;28;01mfrom\u001b[39;00m \u001b[38;5;21;01mtyping\u001b[39;00m \u001b[38;5;28;01mimport\u001b[39;00m \u001b[38;5;241m*\u001b[39m\n",
      "\u001b[0;31mImportError\u001b[0m: attempted relative import with no known parent package"
     ]
    },
    {
     "data": {
      "text/plain": [
       "<Figure size 432x288 with 0 Axes>"
      ]
     },
     "metadata": {},
     "output_type": "display_data"
    }
   ],
   "source": [
    "import matplotlib.pyplot as plt\n",
    "\n",
    "plt.set_cmap(\"cividis\")\n",
    "from IPython.display import set_matplotlib_formats\n",
    "\n",
    "set_matplotlib_formats(\"svg\", \"pdf\")\n",
    "import matplotlib\n",
    "from matplotlib.colors import to_rgb\n",
    "\n",
    "matplotlib.rcParams[\"lines.linewidth\"] = 2.0\n",
    "import seaborn as sns\n",
    "\n",
    "sns.reset_orig()\n",
    "\n",
    "from flax import linen as nn\n",
    "from .utils import *\n",
    "from typing import *"
   ]
  },
  {
   "cell_type": "code",
   "execution_count": null,
   "id": "9683e85f",
   "metadata": {},
   "outputs": [],
   "source": [
    "class AttentionBlock(nn.Module):\n",
    "    embed_dim: int\n",
    "    hidden_dim: int\n",
    "    num_heads: int\n",
    "    dropout_prob: float = 0.0\n",
    "\n",
    "    def setup(self):\n",
    "        self.attn = nn.MultiHeadDotProductAttention(num_heads=self.num_heads)\n",
    "        self.linear = [\n",
    "            nn.Dense(self.hidden_dim),\n",
    "            nn.gelu,\n",
    "            nn.Dropout(self.dropout_prob),\n",
    "            nn.Dense(self.embed_dim),\n",
    "        ]\n",
    "        self.layer_norm_1 = nn.LayerNorm()\n",
    "        self.layer_norm_2 = nn.LayerNorm()\n",
    "        self.dropout = nn.Dropout(self.dropout_prob)\n",
    "\n",
    "    def __call__(self, x, train=True):\n",
    "        inp_x = self.layer_norm_1(x)\n",
    "        attn_out = self.attn(inputs_q=inp_x, inputs_kv=inp_x)\n",
    "        x = x + self.dropout(attn_out, deterministic=not train)\n",
    "        raw_score = x\n",
    "        linear_out = self.layer_norm_2(x)\n",
    "        for l in self.linear:\n",
    "            linear_out = (\n",
    "                l(linear_out)\n",
    "                if not isinstance(l, nn.Dropout)\n",
    "                else l(linear_out, deterministic=not train)\n",
    "            )\n",
    "        x = x + self.dropout(linear_out, deterministic=not train)\n",
    "        return x, raw_score"
   ]
  },
  {
   "cell_type": "code",
   "execution_count": null,
   "id": "7e99df07-b783-4644-8830-1c09fe11f3b1",
   "metadata": {},
   "outputs": [],
   "source": []
  }
 ],
 "metadata": {
  "jupytext": {
   "cell_metadata_filter": "-all",
   "main_language": "python",
   "notebook_metadata_filter": "-all"
  },
  "kernelspec": {
   "display_name": "Python 3 (ipykernel)",
   "language": "python",
   "name": "python3"
  },
  "language_info": {
   "codemirror_mode": {
    "name": "ipython",
    "version": 3
   },
   "file_extension": ".py",
   "mimetype": "text/x-python",
   "name": "python",
   "nbconvert_exporter": "python",
   "pygments_lexer": "ipython3",
   "version": "3.10.5"
  }
 },
 "nbformat": 4,
 "nbformat_minor": 5
}
